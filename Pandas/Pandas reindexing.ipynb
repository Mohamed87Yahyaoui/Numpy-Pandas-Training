{
 "cells": [
  {
   "cell_type": "code",
   "execution_count": 7,
   "metadata": {},
   "outputs": [],
   "source": [
    "import numpy as np\n",
    "\n",
    "import pandas as pd\n",
    "\n",
    "from pandas import Series, DataFrame\n",
    "\n",
    "from numpy.random import randn"
   ]
  },
  {
   "cell_type": "code",
   "execution_count": 9,
   "metadata": {},
   "outputs": [
    {
     "data": {
      "text/plain": [
       "A    1\n",
       "B    2\n",
       "C    3\n",
       "D    4\n",
       "dtype: int64"
      ]
     },
     "execution_count": 9,
     "metadata": {},
     "output_type": "execute_result"
    }
   ],
   "source": [
    "serr = Series([1,2,3,4],index = ['A','B','C','D'])\n",
    "serr"
   ]
  },
  {
   "cell_type": "code",
   "execution_count": 10,
   "metadata": {},
   "outputs": [
    {
     "data": {
      "text/plain": [
       "A    1.0\n",
       "B    2.0\n",
       "C    3.0\n",
       "D    4.0\n",
       "E    NaN\n",
       "F    NaN\n",
       "dtype: float64"
      ]
     },
     "execution_count": 10,
     "metadata": {},
     "output_type": "execute_result"
    }
   ],
   "source": [
    "serr.reindex(['A','B','C','D','E','F']) #change indexes, columns "
   ]
  },
  {
   "cell_type": "code",
   "execution_count": 11,
   "metadata": {},
   "outputs": [
    {
     "data": {
      "text/plain": [
       "A    1\n",
       "B    2\n",
       "C    3\n",
       "D    4\n",
       "E    0\n",
       "F    0\n",
       "dtype: int64"
      ]
     },
     "execution_count": 11,
     "metadata": {},
     "output_type": "execute_result"
    }
   ],
   "source": [
    "serr.reindex(['A','B','C','D','E','F'],fill_value=0) #reindex and fill empty values"
   ]
  },
  {
   "cell_type": "code",
   "execution_count": 13,
   "metadata": {},
   "outputs": [
    {
     "data": {
      "text/plain": [
       "range(0, 15)"
      ]
     },
     "execution_count": 13,
     "metadata": {},
     "output_type": "execute_result"
    }
   ],
   "source": [
    "ranger = range(15)\n",
    "ranger"
   ]
  },
  {
   "cell_type": "code",
   "execution_count": 15,
   "metadata": {},
   "outputs": [
    {
     "data": {
      "text/plain": [
       "0       usa\n",
       "4        uk\n",
       "7    france\n",
       "dtype: object"
      ]
     },
     "execution_count": 15,
     "metadata": {},
     "output_type": "execute_result"
    }
   ],
   "source": [
    "countries = Series(['usa','uk','france'],index = [0,4,7])\n",
    "countries"
   ]
  },
  {
   "cell_type": "code",
   "execution_count": 16,
   "metadata": {},
   "outputs": [
    {
     "data": {
      "text/plain": [
       "0        usa\n",
       "1        usa\n",
       "2        usa\n",
       "3        usa\n",
       "4         uk\n",
       "5         uk\n",
       "6         uk\n",
       "7     france\n",
       "8     france\n",
       "9     france\n",
       "10    france\n",
       "11    france\n",
       "12    france\n",
       "13    france\n",
       "14    france\n",
       "dtype: object"
      ]
     },
     "execution_count": 16,
     "metadata": {},
     "output_type": "execute_result"
    }
   ],
   "source": [
    "countries.reindex(ranger,method='ffill') # ffill: propagate last valid observation forward to next valid"
   ]
  },
  {
   "cell_type": "code",
   "execution_count": 18,
   "metadata": {},
   "outputs": [
    {
     "data": {
      "text/html": [
       "<div>\n",
       "<style scoped>\n",
       "    .dataframe tbody tr th:only-of-type {\n",
       "        vertical-align: middle;\n",
       "    }\n",
       "\n",
       "    .dataframe tbody tr th {\n",
       "        vertical-align: top;\n",
       "    }\n",
       "\n",
       "    .dataframe thead th {\n",
       "        text-align: right;\n",
       "    }\n",
       "</style>\n",
       "<table border=\"1\" class=\"dataframe\">\n",
       "  <thead>\n",
       "    <tr style=\"text-align: right;\">\n",
       "      <th></th>\n",
       "      <th>col1</th>\n",
       "      <th>clo2</th>\n",
       "      <th>clo3</th>\n",
       "      <th>col4</th>\n",
       "      <th>col5</th>\n",
       "    </tr>\n",
       "  </thead>\n",
       "  <tbody>\n",
       "    <tr>\n",
       "      <th>A</th>\n",
       "      <td>-0.214682</td>\n",
       "      <td>-0.309762</td>\n",
       "      <td>-1.073830</td>\n",
       "      <td>0.524947</td>\n",
       "      <td>-0.581517</td>\n",
       "    </tr>\n",
       "    <tr>\n",
       "      <th>B</th>\n",
       "      <td>0.642531</td>\n",
       "      <td>1.771520</td>\n",
       "      <td>-0.520851</td>\n",
       "      <td>0.257056</td>\n",
       "      <td>0.529168</td>\n",
       "    </tr>\n",
       "    <tr>\n",
       "      <th>D</th>\n",
       "      <td>0.457527</td>\n",
       "      <td>1.463229</td>\n",
       "      <td>0.788765</td>\n",
       "      <td>-2.131944</td>\n",
       "      <td>-0.559017</td>\n",
       "    </tr>\n",
       "    <tr>\n",
       "      <th>E</th>\n",
       "      <td>-1.754374</td>\n",
       "      <td>0.497385</td>\n",
       "      <td>0.350674</td>\n",
       "      <td>-0.390747</td>\n",
       "      <td>-0.117156</td>\n",
       "    </tr>\n",
       "    <tr>\n",
       "      <th>F</th>\n",
       "      <td>1.007371</td>\n",
       "      <td>1.869126</td>\n",
       "      <td>-1.289354</td>\n",
       "      <td>0.412952</td>\n",
       "      <td>0.368275</td>\n",
       "    </tr>\n",
       "  </tbody>\n",
       "</table>\n",
       "</div>"
      ],
      "text/plain": [
       "       col1      clo2      clo3      col4      col5\n",
       "A -0.214682 -0.309762 -1.073830  0.524947 -0.581517\n",
       "B  0.642531  1.771520 -0.520851  0.257056  0.529168\n",
       "D  0.457527  1.463229  0.788765 -2.131944 -0.559017\n",
       "E -1.754374  0.497385  0.350674 -0.390747 -0.117156\n",
       "F  1.007371  1.869126 -1.289354  0.412952  0.368275"
      ]
     },
     "execution_count": 18,
     "metadata": {},
     "output_type": "execute_result"
    }
   ],
   "source": [
    "data = DataFrame(randn(25).reshape((5,5)),index = ['A','B','D','E','F'],columns = ['col1','clo2','clo3','col4','col5'])\n",
    "data #syntax of a data frame : "
   ]
  },
  {
   "cell_type": "code",
   "execution_count": 21,
   "metadata": {},
   "outputs": [
    {
     "data": {
      "text/html": [
       "<div>\n",
       "<style scoped>\n",
       "    .dataframe tbody tr th:only-of-type {\n",
       "        vertical-align: middle;\n",
       "    }\n",
       "\n",
       "    .dataframe tbody tr th {\n",
       "        vertical-align: top;\n",
       "    }\n",
       "\n",
       "    .dataframe thead th {\n",
       "        text-align: right;\n",
       "    }\n",
       "</style>\n",
       "<table border=\"1\" class=\"dataframe\">\n",
       "  <thead>\n",
       "    <tr style=\"text-align: right;\">\n",
       "      <th></th>\n",
       "      <th>col1</th>\n",
       "      <th>clo2</th>\n",
       "      <th>clo3</th>\n",
       "      <th>col4</th>\n",
       "      <th>col5</th>\n",
       "    </tr>\n",
       "  </thead>\n",
       "  <tbody>\n",
       "    <tr>\n",
       "      <th>A</th>\n",
       "      <td>-0.214682</td>\n",
       "      <td>-0.309762</td>\n",
       "      <td>-1.073830</td>\n",
       "      <td>0.524947</td>\n",
       "      <td>-0.581517</td>\n",
       "    </tr>\n",
       "    <tr>\n",
       "      <th>B</th>\n",
       "      <td>0.642531</td>\n",
       "      <td>1.771520</td>\n",
       "      <td>-0.520851</td>\n",
       "      <td>0.257056</td>\n",
       "      <td>0.529168</td>\n",
       "    </tr>\n",
       "    <tr>\n",
       "      <th>C</th>\n",
       "      <td>NaN</td>\n",
       "      <td>NaN</td>\n",
       "      <td>NaN</td>\n",
       "      <td>NaN</td>\n",
       "      <td>NaN</td>\n",
       "    </tr>\n",
       "    <tr>\n",
       "      <th>D</th>\n",
       "      <td>0.457527</td>\n",
       "      <td>1.463229</td>\n",
       "      <td>0.788765</td>\n",
       "      <td>-2.131944</td>\n",
       "      <td>-0.559017</td>\n",
       "    </tr>\n",
       "    <tr>\n",
       "      <th>E</th>\n",
       "      <td>-1.754374</td>\n",
       "      <td>0.497385</td>\n",
       "      <td>0.350674</td>\n",
       "      <td>-0.390747</td>\n",
       "      <td>-0.117156</td>\n",
       "    </tr>\n",
       "    <tr>\n",
       "      <th>F</th>\n",
       "      <td>1.007371</td>\n",
       "      <td>1.869126</td>\n",
       "      <td>-1.289354</td>\n",
       "      <td>0.412952</td>\n",
       "      <td>0.368275</td>\n",
       "    </tr>\n",
       "  </tbody>\n",
       "</table>\n",
       "</div>"
      ],
      "text/plain": [
       "       col1      clo2      clo3      col4      col5\n",
       "A -0.214682 -0.309762 -1.073830  0.524947 -0.581517\n",
       "B  0.642531  1.771520 -0.520851  0.257056  0.529168\n",
       "C       NaN       NaN       NaN       NaN       NaN\n",
       "D  0.457527  1.463229  0.788765 -2.131944 -0.559017\n",
       "E -1.754374  0.497385  0.350674 -0.390747 -0.117156\n",
       "F  1.007371  1.869126 -1.289354  0.412952  0.368275"
      ]
     },
     "execution_count": 21,
     "metadata": {},
     "output_type": "execute_result"
    }
   ],
   "source": [
    "data2 = data.reindex(index=['A','B','C','D','E','F'])\n",
    "data2"
   ]
  },
  {
   "cell_type": "code",
   "execution_count": 22,
   "metadata": {},
   "outputs": [],
   "source": [
    "data2 = data.reindex(columns=['col1','clo2','clo3','col4','col5','col6'])"
   ]
  },
  {
   "cell_type": "code",
   "execution_count": 23,
   "metadata": {},
   "outputs": [
    {
     "data": {
      "text/html": [
       "<div>\n",
       "<style scoped>\n",
       "    .dataframe tbody tr th:only-of-type {\n",
       "        vertical-align: middle;\n",
       "    }\n",
       "\n",
       "    .dataframe tbody tr th {\n",
       "        vertical-align: top;\n",
       "    }\n",
       "\n",
       "    .dataframe thead th {\n",
       "        text-align: right;\n",
       "    }\n",
       "</style>\n",
       "<table border=\"1\" class=\"dataframe\">\n",
       "  <thead>\n",
       "    <tr style=\"text-align: right;\">\n",
       "      <th></th>\n",
       "      <th>col1</th>\n",
       "      <th>clo2</th>\n",
       "      <th>clo3</th>\n",
       "      <th>col4</th>\n",
       "      <th>col5</th>\n",
       "      <th>col6</th>\n",
       "    </tr>\n",
       "  </thead>\n",
       "  <tbody>\n",
       "    <tr>\n",
       "      <th>A</th>\n",
       "      <td>-0.214682</td>\n",
       "      <td>-0.309762</td>\n",
       "      <td>-1.073830</td>\n",
       "      <td>0.524947</td>\n",
       "      <td>-0.581517</td>\n",
       "      <td>NaN</td>\n",
       "    </tr>\n",
       "    <tr>\n",
       "      <th>B</th>\n",
       "      <td>0.642531</td>\n",
       "      <td>1.771520</td>\n",
       "      <td>-0.520851</td>\n",
       "      <td>0.257056</td>\n",
       "      <td>0.529168</td>\n",
       "      <td>NaN</td>\n",
       "    </tr>\n",
       "    <tr>\n",
       "      <th>D</th>\n",
       "      <td>0.457527</td>\n",
       "      <td>1.463229</td>\n",
       "      <td>0.788765</td>\n",
       "      <td>-2.131944</td>\n",
       "      <td>-0.559017</td>\n",
       "      <td>NaN</td>\n",
       "    </tr>\n",
       "    <tr>\n",
       "      <th>E</th>\n",
       "      <td>-1.754374</td>\n",
       "      <td>0.497385</td>\n",
       "      <td>0.350674</td>\n",
       "      <td>-0.390747</td>\n",
       "      <td>-0.117156</td>\n",
       "      <td>NaN</td>\n",
       "    </tr>\n",
       "    <tr>\n",
       "      <th>F</th>\n",
       "      <td>1.007371</td>\n",
       "      <td>1.869126</td>\n",
       "      <td>-1.289354</td>\n",
       "      <td>0.412952</td>\n",
       "      <td>0.368275</td>\n",
       "      <td>NaN</td>\n",
       "    </tr>\n",
       "  </tbody>\n",
       "</table>\n",
       "</div>"
      ],
      "text/plain": [
       "       col1      clo2      clo3      col4      col5  col6\n",
       "A -0.214682 -0.309762 -1.073830  0.524947 -0.581517   NaN\n",
       "B  0.642531  1.771520 -0.520851  0.257056  0.529168   NaN\n",
       "D  0.457527  1.463229  0.788765 -2.131944 -0.559017   NaN\n",
       "E -1.754374  0.497385  0.350674 -0.390747 -0.117156   NaN\n",
       "F  1.007371  1.869126 -1.289354  0.412952  0.368275   NaN"
      ]
     },
     "execution_count": 23,
     "metadata": {},
     "output_type": "execute_result"
    }
   ],
   "source": [
    "data2"
   ]
  },
  {
   "cell_type": "code",
   "execution_count": 24,
   "metadata": {},
   "outputs": [
    {
     "data": {
      "text/html": [
       "<div>\n",
       "<style scoped>\n",
       "    .dataframe tbody tr th:only-of-type {\n",
       "        vertical-align: middle;\n",
       "    }\n",
       "\n",
       "    .dataframe tbody tr th {\n",
       "        vertical-align: top;\n",
       "    }\n",
       "\n",
       "    .dataframe thead th {\n",
       "        text-align: right;\n",
       "    }\n",
       "</style>\n",
       "<table border=\"1\" class=\"dataframe\">\n",
       "  <thead>\n",
       "    <tr style=\"text-align: right;\">\n",
       "      <th></th>\n",
       "      <th>col1</th>\n",
       "      <th>clo2</th>\n",
       "      <th>clo3</th>\n",
       "      <th>col4</th>\n",
       "      <th>col5</th>\n",
       "      <th>col6</th>\n",
       "      <th>col7</th>\n",
       "    </tr>\n",
       "  </thead>\n",
       "  <tbody>\n",
       "    <tr>\n",
       "      <th>A</th>\n",
       "      <td>-0.214682</td>\n",
       "      <td>-0.309762</td>\n",
       "      <td>-1.073830</td>\n",
       "      <td>0.524947</td>\n",
       "      <td>-0.581517</td>\n",
       "      <td>NaN</td>\n",
       "      <td>NaN</td>\n",
       "    </tr>\n",
       "    <tr>\n",
       "      <th>B</th>\n",
       "      <td>0.642531</td>\n",
       "      <td>1.771520</td>\n",
       "      <td>-0.520851</td>\n",
       "      <td>0.257056</td>\n",
       "      <td>0.529168</td>\n",
       "      <td>NaN</td>\n",
       "      <td>NaN</td>\n",
       "    </tr>\n",
       "    <tr>\n",
       "      <th>C</th>\n",
       "      <td>NaN</td>\n",
       "      <td>NaN</td>\n",
       "      <td>NaN</td>\n",
       "      <td>NaN</td>\n",
       "      <td>NaN</td>\n",
       "      <td>NaN</td>\n",
       "      <td>NaN</td>\n",
       "    </tr>\n",
       "    <tr>\n",
       "      <th>D</th>\n",
       "      <td>0.457527</td>\n",
       "      <td>1.463229</td>\n",
       "      <td>0.788765</td>\n",
       "      <td>-2.131944</td>\n",
       "      <td>-0.559017</td>\n",
       "      <td>NaN</td>\n",
       "      <td>NaN</td>\n",
       "    </tr>\n",
       "    <tr>\n",
       "      <th>E</th>\n",
       "      <td>-1.754374</td>\n",
       "      <td>0.497385</td>\n",
       "      <td>0.350674</td>\n",
       "      <td>-0.390747</td>\n",
       "      <td>-0.117156</td>\n",
       "      <td>NaN</td>\n",
       "      <td>NaN</td>\n",
       "    </tr>\n",
       "    <tr>\n",
       "      <th>F</th>\n",
       "      <td>1.007371</td>\n",
       "      <td>1.869126</td>\n",
       "      <td>-1.289354</td>\n",
       "      <td>0.412952</td>\n",
       "      <td>0.368275</td>\n",
       "      <td>NaN</td>\n",
       "      <td>NaN</td>\n",
       "    </tr>\n",
       "    <tr>\n",
       "      <th>G</th>\n",
       "      <td>NaN</td>\n",
       "      <td>NaN</td>\n",
       "      <td>NaN</td>\n",
       "      <td>NaN</td>\n",
       "      <td>NaN</td>\n",
       "      <td>NaN</td>\n",
       "      <td>NaN</td>\n",
       "    </tr>\n",
       "  </tbody>\n",
       "</table>\n",
       "</div>"
      ],
      "text/plain": [
       "       col1      clo2      clo3      col4      col5  col6  col7\n",
       "A -0.214682 -0.309762 -1.073830  0.524947 -0.581517   NaN   NaN\n",
       "B  0.642531  1.771520 -0.520851  0.257056  0.529168   NaN   NaN\n",
       "C       NaN       NaN       NaN       NaN       NaN   NaN   NaN\n",
       "D  0.457527  1.463229  0.788765 -2.131944 -0.559017   NaN   NaN\n",
       "E -1.754374  0.497385  0.350674 -0.390747 -0.117156   NaN   NaN\n",
       "F  1.007371  1.869126 -1.289354  0.412952  0.368275   NaN   NaN\n",
       "G       NaN       NaN       NaN       NaN       NaN   NaN   NaN"
      ]
     },
     "execution_count": 24,
     "metadata": {},
     "output_type": "execute_result"
    }
   ],
   "source": [
    "data2 = data.reindex(index = ['A','B','C','D','E','F','G'] ,columns=['col1','clo2','clo3','col4','col5','col6','col7']) #all in one\n",
    "data2"
   ]
  },
  {
   "cell_type": "code",
   "execution_count": null,
   "metadata": {},
   "outputs": [],
   "source": []
  }
 ],
 "metadata": {
  "kernelspec": {
   "display_name": "Python 3",
   "language": "python",
   "name": "python3"
  },
  "language_info": {
   "codemirror_mode": {
    "name": "ipython",
    "version": 3
   },
   "file_extension": ".py",
   "mimetype": "text/x-python",
   "name": "python",
   "nbconvert_exporter": "python",
   "pygments_lexer": "ipython3",
   "version": "3.8.5"
  }
 },
 "nbformat": 4,
 "nbformat_minor": 4
}
